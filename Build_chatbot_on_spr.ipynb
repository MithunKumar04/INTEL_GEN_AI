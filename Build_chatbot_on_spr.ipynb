{
 "cells": [
  {
   "cell_type": "markdown",
   "metadata": {},
   "source": [
    "NeuralChat is a customizable chat framework designed to create user own chatbot within few minutes on multiple architectures. This notebook is used to demonstrate how to build a talking chatbot on 4th Generation of Intel® Xeon® Scalable Processors Sapphire Rapids.\n",
    "\n",
    "The 4th Generation of Intel® Xeon® Scalable processor provides two instruction sets viz. AMX_BF16 and AMX_INT8 which provides acceleration for bfloat16 and int8 operations respectively."
   ]
  },
  {
   "cell_type": "markdown",
   "metadata": {},
   "source": [
    "# Prepare Environment"
   ]
  },
  {
   "cell_type": "markdown",
   "metadata": {},
   "source": [
    "Install intel extension for transformers:"
   ]
  },
  {
   "cell_type": "code",
   "execution_count": null,
   "metadata": {},
   "outputs": [],
   "source": [
    "!pip install intel-extension-for-transformers"
   ]
  },
  {
   "cell_type": "markdown",
   "metadata": {},
   "source": [
    "Install Requirements:"
   ]
  },
  {
   "cell_type": "code",
   "execution_count": null,
   "metadata": {},
   "outputs": [],
   "source": [
    "!git clone https://github.com/intel/intel-extension-for-transformers.git"
   ]
  },
  {
   "cell_type": "code",
   "execution_count": null,
   "metadata": {},
   "outputs": [],
   "source": [
    "%cd ./intel-extension-for-transformers/intel_extension_for_transformers/neural_chat/\n",
    "!pip install -r requirements_cpu.txt\n",
    "%cd ../../../"
   ]
  },
  {
   "cell_type": "markdown",
   "metadata": {},
   "source": [
    "# Build your chatbot 💻"
   ]
  },
  {
   "cell_type": "markdown",
   "metadata": {},
   "source": [
    "## Text Chat"
   ]
  },
  {
   "cell_type": "markdown",
   "metadata": {},
   "source": [
    "Giving NeuralChat the textual instruction, it will respond with the textual response."
   ]
  },
  {
   "cell_type": "code",
   "execution_count": 2,
   "metadata": {},
   "outputs": [
    {
     "name": "stdout",
     "output_type": "stream",
     "text": [
      "Loading model Intel/neural-chat-7b-v3-1\n"
     ]
    },
    {
     "data": {
      "application/vnd.jupyter.widget-view+json": {
       "model_id": "21f24f9ec19c40e4b8bb917316ae494c",
       "version_major": 2,
       "version_minor": 0
      },
      "text/plain": [
       "Loading checkpoint shards:   0%|          | 0/2 [00:00<?, ?it/s]"
      ]
     },
     "metadata": {},
     "output_type": "display_data"
    },
    {
     "name": "stdout",
     "output_type": "stream",
     "text": [
      "The Intel Xeon Scalable Processors represent a family of high-performance central processing units (CPUs) designed for data centers, cloud computing, and other demanding workloads. These processors offer significant improvements in performance, efficiency, and scalability compared to their predecessors. They feature advanced technologies such as Intel Advanced Vector Extensions 512 (AVX-512), Intel Turbo Boost Technology 2.0, and Intel Hyper-Threading Technology, which contribute to increased throughput and reduced latency. Additionally, they support various memory configurations, including DDR4 and Optane DC Persistent Memory, allowing for flexible system designs tailored to specific needs. Overall, the Intel Xeon Scalable Processors aim to deliver exceptional performance and reliability for today's most complex applications and environments. интелект интелл процессор интелл эксон скалибл процессор интелл эксперт интелл эксперт скалибл процессор интелл скалибл процессор интелл скалибл процессор интелл скалибл процессор ин\n",
      "---------------------------------------------------------------\n",
      "Cats have been captivating our hearts for centuries with their graceful movements, curious nature, and independent spirit. They are known as the ultimate feline companions, often seen as symbols of mystery and elegance.\n",
      "\n",
      "Cats come in various shapes, sizes, and colors, each with its unique personality traits. Some are playful and energetic, while others prefer to relax on a warm lap or sunny windowsill. Their intelligence is remarkable, as they can learn tricks, solve puzzles, and even communicate through body language and vocalizations.\n",
      "\n",
      "As natural hunters, cats possess sharp senses, including excellent hearing, sight, and smell. This makes them adept at navigating their surroundings and finding food sources. However, they can also be quite picky eaters, preferring specific flavors and textures.\n",
      "\n",
      "Despite their reputation for being aloof and self-sufficient, cats can form strong bonds with their human companions. They enjoy affectionate interactions like petting, cuddling, and playing games together. In return, they offer unconditional love and companionship that can bring joy and comfort to those who share their lives.\n",
      "---------------------------------------------------------------\n",
      "Dogs are man's best friends, known for their loyalty, companionship, and unconditional love. They come in various breeds, sizes, and colors, each with unique personalities and traits. Some dogs are bred for specific purposes like hunting, guarding, or herding, while others simply enjoy being part of a loving family.\n",
      "\n",
      "Dogs have been domesticated for thousands of years, evolving from wolves into the diverse species we know today. Their intelligence and ability to learn new tricks make them excellent pets and working animals. Many dog breeds have distinct physical features, such as long ears (like Basset Hounds), short legs (like Dachshunds), or floppy ears (like Cocker Spaniels).\n",
      "\n",
      "Caring for a dog involves providing proper nutrition, regular exercise, grooming, and veterinary care. It is essential to train your dog using positive reinforcement techniques to ensure they grow up to be well-behaved and happy members of the family.\n",
      "\n",
      "In conclusion, dogs are wonderful creatures that bring joy and happiness to our lives. They are loyal companions who can teach us valuable lessons about love, trust, and responsibility.\n",
      "---------------------------------------------------------------\n",
      "The internet is a vast network of interconnected computers and devices that enables the exchange of information, communication, and collaboration on a global scale. It has revolutionized how we access, share, and consume data in various forms such as text, images, videos, and audio files.\n",
      "\n",
      "The internet's origins can be traced back to the early days of computer networking, with the first major milestone being the development of ARPANET (Advanced Research Projects Agency Network) in the late 1960s. Over time, this network evolved into what we now know as the World Wide Web, which was invented by Sir Tim Berners-Lee in 1989. This invention allowed for the creation of websites, enabling users to easily navigate through hyperlinked documents and share information across the globe.\n",
      "\n",
      "Today, the internet plays a crucial role in our daily lives, connecting people from different backgrounds and cultures. It has transformed industries like education, healthcare, business, entertainment, and communication, making it easier for individuals to access information, learn new skills, and stay connected with friends and family. However, along with its numerous benefits, the internet also presents challenges such as cybersecurity threats, misinformation, and digital\n",
      "---------------------------------------------------------------\n",
      "Cars have been an integral part of our lives for over a century now. They offer convenience, speed, and freedom in transportation. From their humble beginnings as horse-drawn carriages, they evolved into gasoline-powered vehicles with internal combustion engines. Today, we see various types of cars catering to different needs - from compact city cars to luxurious sports cars, electric vehicles, and even self-driving cars. The automotive industry has grown exponentially, shaping our cities, economies, and lifestyles. It's fascinating how these machines have become such an essential part of our daily lives, connecting us across vast distances and enabling us to explore new horizons. \n",
      "\n",
      "Once upon a time, there was a little red car named Ruby who loved to travel around the world. She had a big heart and wanted to bring joy to everyone she met. One day, Ruby decided to embark on a grand adventure to visit all seven continents.\n",
      "\n",
      "Her first stop was Antarctica, where she marveled at the breathtaking icebergs and penguins. Next, she traveled to Africa, where she witnessed the beauty of the Serengeti plains and the majestic\n",
      "---------------------------------------------------------------\n",
      "Clouds are beautiful formations of water droplets or ice crystals suspended in Earth's atmosphere. They play a crucial role in our weather patterns, as they influence temperature, precipitation, and air circulation. There are various types of clouds, each with its own characteristics and appearance.\n",
      "\n",
      "Cumulus clouds, for example, are fluffy and puffy, often appearing like cotton balls floating in the sky. Stratocumulus clouds have a lumpy texture and resemble a blanket covering the sky. Cirrus clouds are thin and wispy, looking like feathers or hair. Cumulonimbus clouds are large and towering, sometimes forming thunderstorms and producing lightning.\n",
      "\n",
      "Clouds can change shape and size over time due to changes in wind patterns, temperature, and humidity levels. They also affect how sunlight reaches the Earth's surface, which influences the overall climate.\n",
      "\n",
      "In addition to their impact on weather, clouds have inspired artists, poets, and writers throughout history. Their ever-changing forms and textures have been depicted in paintings, poems, and novels, capturing the imagination of people around the world.\n"
     ]
    }
   ],
   "source": [
    "# BF16 Optimization\n",
    "from intel_extension_for_transformers.neural_chat import build_chatbot, PipelineConfig\n",
    "from intel_extension_for_transformers.transformers import MixedPrecisionConfig\n",
    "config = PipelineConfig(optimization_config=MixedPrecisionConfig())\n",
    "chatbot = build_chatbot(config)\n",
    "response1 = chatbot.predict(query=\"Tell me about Intel Xeon Scalable Processors.\")\n",
    "print(response1)\n",
    "print(\"---------------------------------------------------------------\")\n",
    "response2 = chatbot.predict(query=\"Tell me about cats.\")\n",
    "print(response2)\n",
    "print(\"---------------------------------------------------------------\")\n",
    "response3 = chatbot.predict(query=\"Tell me about dogs.\")\n",
    "print(response3)\n",
    "print(\"---------------------------------------------------------------\")\n",
    "response4 = chatbot.predict(query=\"Tell me about internet.\")\n",
    "print(response4)\n",
    "print(\"---------------------------------------------------------------\")\n",
    "response5 = chatbot.predict(query=\"Tell me about cars.\")\n",
    "print(response5)\n",
    "print(\"---------------------------------------------------------------\")\n",
    "response6 = chatbot.predict(query=\"Tell me about cloud.\")\n",
    "print(response6)\n"
   ]
  }
 ],
 "metadata": {
  "kernelspec": {
   "display_name": "neural-chat-1",
   "language": "python",
   "name": "neural-chat-1"
  },
  "language_info": {
   "codemirror_mode": {
    "name": "ipython",
    "version": 3
   },
   "file_extension": ".py",
   "mimetype": "text/x-python",
   "name": "python",
   "nbconvert_exporter": "python",
   "pygments_lexer": "ipython3",
   "version": "3.10.14"
  }
 },
 "nbformat": 4,
 "nbformat_minor": 4
}
